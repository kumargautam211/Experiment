{
 "cells": [
  {
   "cell_type": "code",
   "execution_count": 2,
   "metadata": {},
   "outputs": [
    {
     "name": "stdout",
     "output_type": "stream",
     "text": [
      "Help on Technogeeks in module __main__ object:\n",
      "\n",
      "class Technogeeks(builtins.object)\n",
      " |  Methods defined here:\n",
      " |  \n",
      " |  showdata(self)\n",
      " |      Dummy method which prints message\n",
      " |  \n",
      " |  ----------------------------------------------------------------------\n",
      " |  Data descriptors defined here:\n",
      " |  \n",
      " |  __dict__\n",
      " |      dictionary for instance variables (if defined)\n",
      " |  \n",
      " |  __weakref__\n",
      " |      list of weak references to the object (if defined)\n",
      " |  \n",
      " |  ----------------------------------------------------------------------\n",
      " |  Data and other attributes defined here:\n",
      " |  \n",
      " |  NAME = 'Technogeeks Pune'\n",
      "\n",
      "None\n",
      "Method : Showdata\n"
     ]
    }
   ],
   "source": [
    "\"\"\"\n",
    "class <Class Name>:\n",
    "    attributes\n",
    "    #def method()\n",
    "    \n",
    "object_name = ClassName()\n",
    "    \n",
    "\"\"\"\n",
    "\n",
    "class Technogeeks:\n",
    "    NAME = \"Technogeeks Pune\"\n",
    "    \n",
    "    def showdata(self):\n",
    "        \"\"\"\n",
    "        Dummy method which prints message\n",
    "        \"\"\"\n",
    "        print(\"Method : Showdata\")\n",
    "        \n",
    "# num =[1,2,3,4]  \n",
    "# object = List()\n",
    "#num.append(12)\n",
    "t1 = Technogeeks()\n",
    "print(help(t1))\n",
    "t1.showdata()"
   ]
  },
  {
   "cell_type": "code",
   "execution_count": 90,
   "metadata": {},
   "outputs": [
    {
     "name": "stdout",
     "output_type": "stream",
     "text": [
      "SHOW DATA: Compant Name : Technogeeks Pune Name : Rajesh Dept : IT Support Salary : 25000\n",
      "SHOW DATA: Compant Name : Technogeeks Pune Name : Gautam Dept : Operations Salary : 40000\n",
      "SHOW DATA: Compant Name : Technogeeks Pune Name : Praveen Dept : O&M Salary : 34000\n",
      "SHOW DATA: Compant Name : Technogeeks Pune Name : Satish Dept : Finance Salary : 56000\n",
      "SHOW DATA: Compant Name : Technogeeks Pune Name : Manish Dept : Legal Salary : 86000\n",
      "SHOW DATA: Compant Name : Technogeeks Pune Name : Dheeraj Dept : Marketing Salary : 20000\n"
     ]
    }
   ],
   "source": [
    "class Technogeeks:\n",
    "    NAME = \"Technogeeks Pune\"\n",
    "    \n",
    "    def setdata(self, e_name, dept, Salary):\n",
    "        self.showdata(e_name, dept, Salary)\n",
    "        \n",
    "    def showdata(self, e_name, dept, Salary):\n",
    "        print(\"SHOW DATA: Compant Name : %s Name : %s Dept : %s Salary : %s\"%(self.NAME, e_name, dept, Salary))\n",
    "        \n",
    "t1 = Technogeeks()\n",
    "t1.setdata('Rajesh','IT Support',25000)\n",
    "t1.setdata('Gautam','Operations',40000)\n",
    "t1.setdata('Praveen','O&M',34000)\n",
    "t1.setdata('Satish','Finance',56000)\n",
    "t1.setdata('Manish','Legal',86000)\n",
    "t1.setdata('Dheeraj','Marketing',20000)"
   ]
  },
  {
   "cell_type": "code",
   "execution_count": 28,
   "metadata": {},
   "outputs": [
    {
     "name": "stdout",
     "output_type": "stream",
     "text": [
      "Hello World\n"
     ]
    }
   ],
   "source": [
    "gautam = print\n",
    "gautam(\"Hello World\")"
   ]
  },
  {
   "cell_type": "code",
   "execution_count": 37,
   "metadata": {},
   "outputs": [
    {
     "name": "stdout",
     "output_type": "stream",
     "text": [
      "Name is Rajesh Course is Python\n"
     ]
    }
   ],
   "source": [
    "class Technogeeks:\n",
    "    NAME = \"Technogeeks Pune\"\n",
    "    def __init__(self, name, course):\n",
    "        self.name = name\n",
    "        self.course = course\n",
    "        \n",
    "    def showdata(self):\n",
    "        print(\"Name is %s Course is %s\"%(self.name, self.course))\n",
    "        \n",
    "t1 = Technogeeks('Rajesh','Python')\n",
    "t1.showdata()"
   ]
  },
  {
   "cell_type": "code",
   "execution_count": 133,
   "metadata": {},
   "outputs": [
    {
     "name": "stdout",
     "output_type": "stream",
     "text": [
      "Result : Showdata\n"
     ]
    }
   ],
   "source": [
    "class Maharashtra:\n",
    "    State = \"Pune\"\n",
    "    \n",
    "    def showdata(self):\n",
    "        print(\"Result : Showdata\")\n",
    "        \n",
    "t1 = Maharashtra()\n",
    "t1.showdata()"
   ]
  },
  {
   "cell_type": "code",
   "execution_count": 134,
   "metadata": {},
   "outputs": [
    {
     "name": "stdout",
     "output_type": "stream",
     "text": [
      "SHOW DATA: Company Name : ATC Name : Gautam Kumar dept : Operations state : Bihar Add : Paschim salary : 40000\n",
      "SHOW DATA: Company Name : ATC Name : Praveen dept : Marketing state : Rajasthan Add : Bharatpur salary : 54000\n",
      "SHOW DATA: Company Name : ATC Name : Satish dept : Legal state : Nagpur Add : wardha salary : 72000\n",
      "SHOW DATA: Company Name : ATC Name : Hemant dept : Sales state : Pune Add : Hadapsar salary : 42000\n"
     ]
    }
   ],
   "source": [
    "class Americantower:\n",
    "    NAME = \"ATC\"\n",
    "    \n",
    "    def setdata(self, e_name, dept, state, Add, salary):\n",
    "        self.showdata(e_name, dept, state, Add, salary)\n",
    "        \n",
    "    def showdata(self, e_name, dept, state, Add, salary):\n",
    "        print(\"SHOW DATA: Company Name : %s Name : %s dept : %s state : %s Add : %s salary : %s\"%(self.NAME, e_name, dept, state, Add, salary))\n",
    "        \n",
    "NAME = Americantower()\n",
    "NAME.setdata('Gautam Kumar','Operations','Bihar','Paschim',40000)\n",
    "NAME.setdata('Praveen','Marketing','Rajasthan','Bharatpur',54000)\n",
    "NAME.setdata('Satish','Legal','Nagpur','wardha',72000)\n",
    "NAME.setdata('Hemant','Sales','Pune','Hadapsar',42000)"
   ]
  },
  {
   "cell_type": "code",
   "execution_count": 135,
   "metadata": {},
   "outputs": [
    {
     "name": "stdout",
     "output_type": "stream",
     "text": [
      "This is Gautam course is Data Science\n"
     ]
    }
   ],
   "source": [
    "class Idea:\n",
    "    Name = \"ICISL\"\n",
    "    \n",
    "    def __init__(self,name,course):\n",
    "        self.name = name\n",
    "        self.course = course\n",
    "        \n",
    "    def showdata(self):\n",
    "        print(\"This is %s course is %s\"%(self.name,self.course))\n",
    "        \n",
    "t1 = Idea('Gautam','Data Science')\n",
    "t1.showdata()"
   ]
  },
  {
   "cell_type": "code",
   "execution_count": null,
   "metadata": {},
   "outputs": [],
   "source": []
  },
  {
   "cell_type": "code",
   "execution_count": null,
   "metadata": {},
   "outputs": [],
   "source": []
  }
 ],
 "metadata": {
  "kernelspec": {
   "display_name": "Python 3",
   "language": "python",
   "name": "python3"
  },
  "language_info": {
   "codemirror_mode": {
    "name": "ipython",
    "version": 3
   },
   "file_extension": ".py",
   "mimetype": "text/x-python",
   "name": "python",
   "nbconvert_exporter": "python",
   "pygments_lexer": "ipython3",
   "version": "3.7.4"
  }
 },
 "nbformat": 4,
 "nbformat_minor": 2
}

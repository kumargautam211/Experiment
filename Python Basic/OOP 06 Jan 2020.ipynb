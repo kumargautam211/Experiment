{
 "cells": [
  {
   "cell_type": "code",
   "execution_count": 4,
   "metadata": {},
   "outputs": [
    {
     "name": "stdout",
     "output_type": "stream",
     "text": [
      "From Test class printdata\n"
     ]
    }
   ],
   "source": [
    "# Inheritance and method\n",
    "\"\"\"\n",
    "A            \n",
    "B(A)\n",
    "C(B)\n",
    "\"\"\"\n",
    "class Test:\n",
    "    def __init__(self, name):\n",
    "       self.name = name\n",
    "       \n",
    "    def printdata(self):\n",
    "        print(\"From Test class printdata\")\n",
    "\n",
    "class Child(Test):\n",
    "    def __init__(self):\n",
    "       super().__init__(\"sdf\")\n",
    "   \n",
    "    def showdata(self):\n",
    "        print(\"From Child class showdata\")\n",
    "       \n",
    "c1 = Child()\n",
    "c1.printdata()"
   ]
  },
  {
   "cell_type": "code",
   "execution_count": 5,
   "metadata": {},
   "outputs": [
    {
     "name": "stdout",
     "output_type": "stream",
     "text": [
      "From Test class printdata\n",
      "From Dummy printdata\n"
     ]
    }
   ],
   "source": [
    "\"\"\"\n",
    "A            \n",
    "B(A)\n",
    "C(B)\n",
    "\"\"\"\n",
    "class Test:\n",
    "   def printdata(self):\n",
    "       print(\"From Test class printdata\")\n",
    "\n",
    "class Dummy(Test):\n",
    "   def printdata(self):\n",
    "       super().printdata()\n",
    "       print(\"From Dummy printdata\")\n",
    "       \n",
    "class Child(Dummy):\n",
    "   def showdata(self):\n",
    "       print(\"From Child class showdata\")\n",
    "       \n",
    "c1 = Child()\n",
    "c1.printdata()"
   ]
  },
  {
   "cell_type": "code",
   "execution_count": 6,
   "metadata": {},
   "outputs": [
    {
     "name": "stdout",
     "output_type": "stream",
     "text": [
      "From Dummy printdata\n"
     ]
    }
   ],
   "source": [
    "\"\"\"\n",
    "A            \n",
    "B(A)\n",
    "C(B)\n",
    "\"\"\"\n",
    "class Test:\n",
    "   def printdata(self):\n",
    "       print(\"From Test class printdata\")\n",
    "\n",
    "class Dummy(Test):\n",
    "   def printdata(self):\n",
    "       print(\"From Dummy printdata\")\n",
    "       \n",
    "class Child(Dummy):\n",
    "   def showdata(self):\n",
    "       print(\"From Child class showdata\")\n",
    "       \n",
    "c1 = Child()\n",
    "c1.printdata()"
   ]
  },
  {
   "cell_type": "code",
   "execution_count": 7,
   "metadata": {},
   "outputs": [
    {
     "name": "stdout",
     "output_type": "stream",
     "text": [
      "From Dummy printdata\n"
     ]
    }
   ],
   "source": [
    "\"\"\"\n",
    "A             B\n",
    "       C\n",
    "\"\"\"\n",
    "class Test:\n",
    "   def printdataTest(self):\n",
    "       print(\"From Test class printdata\")\n",
    "\n",
    "class Dummy:\n",
    "   def printdata(self):\n",
    "       print(\"From Dummy printdata\")\n",
    "       \n",
    "class Child(Test, Dummy):\n",
    "   def showdata(self):\n",
    "       print(\"From Child class showdata\")\n",
    "       \n",
    "c1 = Child()\n",
    "c1.printdata()"
   ]
  },
  {
   "cell_type": "code",
   "execution_count": 8,
   "metadata": {},
   "outputs": [
    {
     "name": "stdout",
     "output_type": "stream",
     "text": [
      "From Dummy printdata\n"
     ]
    }
   ],
   "source": [
    "\"\"\"\n",
    "A             B\n",
    "       C\n",
    "\"\"\"\n",
    "class Test:\n",
    "   def printdataTest(self):\n",
    "       print(\"From Test class printdata\")\n",
    "\n",
    "class Dummy:\n",
    "   def printdata(self):\n",
    "       print(\"From Dummy printdata\")\n",
    "       \n",
    "class Child(Test, Dummy):\n",
    "   def showdata(self):\n",
    "       print(\"From Child class showdata\")\n",
    "       \n",
    "c1 = Child()\n",
    "c1.printdata()"
   ]
  },
  {
   "cell_type": "code",
   "execution_count": 11,
   "metadata": {},
   "outputs": [
    {
     "name": "stdout",
     "output_type": "stream",
     "text": [
      "From Test class printdata\n"
     ]
    }
   ],
   "source": [
    "class Test:\n",
    "   def printdata(self):\n",
    "       print(\"From Test class printdata\")\n",
    "       \n",
    "class Child(Test):\n",
    "   def showdata(self):\n",
    "       print(\"From Child class showdata\")\n",
    "        \n",
    "c1 = Test()\n",
    "c1.printdata()"
   ]
  },
  {
   "cell_type": "code",
   "execution_count": null,
   "metadata": {},
   "outputs": [],
   "source": []
  }
 ],
 "metadata": {
  "kernelspec": {
   "display_name": "Python 3",
   "language": "python",
   "name": "python3"
  },
  "language_info": {
   "codemirror_mode": {
    "name": "ipython",
    "version": 3
   },
   "file_extension": ".py",
   "mimetype": "text/x-python",
   "name": "python",
   "nbconvert_exporter": "python",
   "pygments_lexer": "ipython3",
   "version": "3.7.4"
  }
 },
 "nbformat": 4,
 "nbformat_minor": 2
}

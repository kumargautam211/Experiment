{
 "cells": [
  {
   "cell_type": "code",
   "execution_count": 4,
   "metadata": {},
   "outputs": [],
   "source": [
    "class TG:\n",
    "    STUDENT_INFO = list()\n",
    "    def show_all_student_data(self):\n",
    "        print(\"length \", len(self.STUDENT_INFO))\n",
    "        assert len(self.STUDENT_INFO) != 0, \"lenth is less than 1: No record found\"\n",
    "        for current_student in self.STUDENT_INFO:\n",
    "            print(current_student['name'], current_student['course'])\n",
    "\n",
    "class Student(TG):\n",
    "    def __init__(self, name, course):\n",
    "        self.name = name\n",
    "        self.course = course\n",
    "\n",
    "    def set_data(self):\n",
    "        student_detail = dict()\n",
    "        student_detail['name'] = self.name\n",
    "        student_detail['course'] = self.course\n",
    "        self.STUDENT_INFO.append(student_detail)"
   ]
  },
  {
   "cell_type": "code",
   "execution_count": 5,
   "metadata": {},
   "outputs": [
    {
     "name": "stdout",
     "output_type": "stream",
     "text": [
      "enter your name gautam\n",
      "enter course namepython\n",
      "length  1\n",
      "gautam python\n"
     ]
    }
   ],
   "source": [
    "from student_base import Student\n",
    "\n",
    "username = input(\"enter your name \")\n",
    "course = input(\"enter course name\")\n",
    "assert course.lower() in ['python', 'python ds', 'hadoop']\n",
    "\n",
    "s1 = Student(username, course)\n",
    "s1.set_data()\n",
    "s1.show_all_student_data()"
   ]
  },
  {
   "cell_type": "code",
   "execution_count": null,
   "metadata": {},
   "outputs": [],
   "source": []
  }
 ],
 "metadata": {
  "kernelspec": {
   "display_name": "Python 3",
   "language": "python",
   "name": "python3"
  },
  "language_info": {
   "codemirror_mode": {
    "name": "ipython",
    "version": 3
   },
   "file_extension": ".py",
   "mimetype": "text/x-python",
   "name": "python",
   "nbconvert_exporter": "python",
   "pygments_lexer": "ipython3",
   "version": "3.7.4"
  }
 },
 "nbformat": 4,
 "nbformat_minor": 2
}

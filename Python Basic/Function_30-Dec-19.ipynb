{
 "cells": [
  {
   "cell_type": "code",
   "execution_count": 9,
   "metadata": {},
   "outputs": [
    {
     "name": "stdout",
     "output_type": "stream",
     "text": [
      "Hello world\n",
      "FUNCTION RETURN : \n"
     ]
    },
    {
     "data": {
      "text/plain": [
       "(None, 'Hi')"
      ]
     },
     "execution_count": 9,
     "metadata": {},
     "output_type": "execute_result"
    }
   ],
   "source": [
    "def showdata():\n",
    "    print(\"Hello world\")\n",
    "    return \"Hi\"\n",
    "\n",
    "function_return_value = showdata()\n",
    "\n",
    "print(\"FUNCTION RETURN : \"),function_return_value"
   ]
  },
  {
   "cell_type": "code",
   "execution_count": 10,
   "metadata": {},
   "outputs": [
    {
     "name": "stdout",
     "output_type": "stream",
     "text": [
      "EVEN NUMBER is 66\n"
     ]
    }
   ],
   "source": [
    "def is_even(num):\n",
    "    \"\"\"\n",
    "    check num is even or odd and return msg\n",
    "    \"\"\"\n",
    "    if num%2 == 0:\n",
    "        return \"EVEN NUMBER is %s\"%(num)\n",
    "    else:\n",
    "        return \"ODD NUMBER is %s\"%(num)\n",
    "print(is_even(66))"
   ]
  },
  {
   "cell_type": "code",
   "execution_count": 13,
   "metadata": {},
   "outputs": [
    {
     "name": "stdout",
     "output_type": "stream",
     "text": [
      "This no is divisible by 3\n"
     ]
    }
   ],
   "source": [
    "def hello(num):\n",
    "    if num%3 == 0:\n",
    "        return \"This no is divisible by 3\"\n",
    "    else:\n",
    "        return \"This in not divisible by 3\"\n",
    "print(hello(6))"
   ]
  },
  {
   "cell_type": "code",
   "execution_count": null,
   "metadata": {},
   "outputs": [],
   "source": []
  }
 ],
 "metadata": {
  "kernelspec": {
   "display_name": "Python 3",
   "language": "python",
   "name": "python3"
  },
  "language_info": {
   "codemirror_mode": {
    "name": "ipython",
    "version": 3
   },
   "file_extension": ".py",
   "mimetype": "text/x-python",
   "name": "python",
   "nbconvert_exporter": "python",
   "pygments_lexer": "ipython3",
   "version": "3.7.4"
  }
 },
 "nbformat": 4,
 "nbformat_minor": 2
}

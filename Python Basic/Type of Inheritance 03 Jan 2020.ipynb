{
 "cells": [
  {
   "cell_type": "code",
   "execution_count": 7,
   "metadata": {},
   "outputs": [
    {
     "name": "stdout",
     "output_type": "stream",
     "text": [
      "This is Gautam course is DS\n"
     ]
    }
   ],
   "source": [
    "# Single level Inheritance\n",
    "\n",
    "class Technogeeks:\n",
    "    def __init__(self, name, course):\n",
    "        self.name = name\n",
    "        self.course = course\n",
    "    def display(self):\n",
    "        print(\"This is %s course is %s\"%(self.name, self.course))\n",
    "\n",
    "class Americantower(Technogeeks):\n",
    "    def __init__(self, employee, account):\n",
    "        self.employee = employee\n",
    "        self.account = account\n",
    "        \n",
    "    \n",
    "        \n",
    "a1 = Technogeeks('Gautam','DS')\n",
    "a1.display()"
   ]
  },
  {
   "cell_type": "code",
   "execution_count": 18,
   "metadata": {},
   "outputs": [
    {
     "name": "stdout",
     "output_type": "stream",
     "text": [
      "['H', 'e', 'l', 'l', 'o', ' ', 'T', 'e', 'c', 'h', 'n', 'o', 'g', 'e', 'e', 'k', 's']\n"
     ]
    }
   ],
   "source": [
    "str1 = \"Hello Technogeeks\"\n",
    "str2 = list(str1)\n",
    "print(str2)"
   ]
  },
  {
   "cell_type": "code",
   "execution_count": null,
   "metadata": {},
   "outputs": [],
   "source": []
  }
 ],
 "metadata": {
  "kernelspec": {
   "display_name": "Python 3",
   "language": "python",
   "name": "python3"
  },
  "language_info": {
   "codemirror_mode": {
    "name": "ipython",
    "version": 3
   },
   "file_extension": ".py",
   "mimetype": "text/x-python",
   "name": "python",
   "nbconvert_exporter": "python",
   "pygments_lexer": "ipython3",
   "version": "3.7.4"
  }
 },
 "nbformat": 4,
 "nbformat_minor": 2
}

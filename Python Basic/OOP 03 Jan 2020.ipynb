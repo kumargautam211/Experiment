{
 "cells": [
  {
   "cell_type": "code",
   "execution_count": 1,
   "metadata": {},
   "outputs": [
    {
     "ename": "SyntaxError",
     "evalue": "invalid syntax (<ipython-input-1-9ff3415834d0>, line 9)",
     "output_type": "error",
     "traceback": [
      "\u001b[1;36m  File \u001b[1;32m\"<ipython-input-1-9ff3415834d0>\"\u001b[1;36m, line \u001b[1;32m9\u001b[0m\n\u001b[1;33m    account_no. = datetime.datetime.now()\u001b[0m\n\u001b[1;37m                ^\u001b[0m\n\u001b[1;31mSyntaxError\u001b[0m\u001b[1;31m:\u001b[0m invalid syntax\n"
     ]
    }
   ],
   "source": [
    "import datetime\n",
    "class Technogeeks:\n",
    "    def student_info(self, name, course, is_weekday):\n",
    "        pass\n",
    "    def student_no(self, student_details):\n",
    "        \"\"\"\n",
    "        Auto generated account number using datetime stamp.\n",
    "        \"\"\"\n",
    "        account_no. = datetime.datetime.now()\n",
    "        return\n",
    "    account_no.strftime(\"TG%d%H%M%S\")\n",
    "    \n",
    "class account():\n",
    "    #def isactive(self, student_id)\n",
    "    # pass\n",
    "    def payment(self, student_no, amount):\n",
    "        \"\"\"\n",
    "        Base on account no make payment\n",
    "        \"\"\"\n",
    "        pass\n",
    "class student(Technogeeks, Account):\n",
    "    \"\"\"\n",
    "    Request course. Payment\n",
    "    \"\"\"\n",
    "    def student_info(self, **student_details):\n",
    "        account_no = self.student_no(student_details)\n",
    "        \n",
    "    "
   ]
  },
  {
   "cell_type": "code",
   "execution_count": 2,
   "metadata": {},
   "outputs": [
    {
     "ename": "IndentationError",
     "evalue": "unexpected indent (<ipython-input-2-afaaacbab853>, line 28)",
     "output_type": "error",
     "traceback": [
      "\u001b[1;36m  File \u001b[1;32m\"<ipython-input-2-afaaacbab853>\"\u001b[1;36m, line \u001b[1;32m28\u001b[0m\n\u001b[1;33m    print(\"in student\")\u001b[0m\n\u001b[1;37m    ^\u001b[0m\n\u001b[1;31mIndentationError\u001b[0m\u001b[1;31m:\u001b[0m unexpected indent\n"
     ]
    }
   ],
   "source": [
    "import datetime\n",
    "class Technogeeks:\n",
    "   COURSE_FEES = {\"Python\": 9999, \"DS\": 99999, \"HAdoop\":99999}\n",
    "   def student_info(self, name, course, is_weekday):\n",
    "       pass\n",
    "   \n",
    "   def student_no(self, student_details):\n",
    "       \"\"\"\n",
    "       Auto generated account number using datetime stamp.\n",
    "       \"\"\"\n",
    "       account_no = datetime.datetime.now()\n",
    "       return account_no.strftime(\"TG%d%H%M%S\")\n",
    "       \n",
    "\n",
    "class Account:\n",
    "   #def isactive(self, student_id)\n",
    "   #    pass\n",
    "   def payment(self, student_no, amount):\n",
    "       \"\"\"\n",
    "       Base on account no make payment\n",
    "       \"\"\"\n",
    "       pass\n",
    "   \n",
    "class Student(Technogeeks, Account):\n",
    "   \"\"\"\n",
    "   Request courese. Payment.\n",
    "   \"\"\"\n",
    "    print(\"in student\")\n",
    "   def student_info(self, **student_details):\n",
    "       all_students = list()\n",
    "       account_no = self.student_no(student_details)\n",
    "       student_details['account_no'] = account_no\n",
    "       all_students.append(student_details)\n",
    "       print(\"Your details are : %s \" %(student_details))\n",
    "\n",
    "class Audit(Student):\n",
    "   def is_feess_completed(student_details):\n",
    "       for current_student in student_details:\n",
    "           if current_student['Payment'] >=  self.COURSE_FEES[current_student['courese']]:\n",
    "               return \"\"\n",
    "           else:\n",
    "               self.sendmail(current_student['email'])\n",
    "\n",
    "def main():\n",
    "   while True:\n",
    "       print(\"1] Inquiry <name> <course> <isweekday>\")\n",
    "       print(\"2] Make Payment <account_no> <amount>\")\n",
    "       user_input = int(input(\"Enter your choise\"))\n",
    "       if user_input == 1:\n",
    "           s1 = Student()\n",
    "           s1.student_info(name=\"viraj\", course=\"python ds\", isweekday=True)\n",
    "       elif user_input == 2:\n",
    "           pass\n",
    "       else:\n",
    "           break\n",
    "               \n",
    "if __name__ == \"__main__\":\n",
    "   main()"
   ]
  },
  {
   "cell_type": "code",
   "execution_count": 3,
   "metadata": {},
   "outputs": [
    {
     "name": "stdout",
     "output_type": "stream",
     "text": [
      "COMPANY :  ABC LTD\n",
      "Showdata from Class A\n"
     ]
    }
   ],
   "source": [
    "class A:\n",
    "    COMPANY_NAME = \"ABC LTD\"\n",
    "    def showdata(self):\n",
    "        print(\"COMPANY : \",self.COMPANY_NAME)\n",
    "        print(\"Showdata from Class A\")\n",
    "        \n",
    "class B(A):\n",
    "    def printdata(self):\n",
    "        print(\"Company Name is %s \"%(self.COMPANY_NAME))\n",
    "        print(\"Showdata from Class B\")\n",
    "\n",
    "class C(A):\n",
    "    def printdata(self):\n",
    "        print(\"Company Name is %s \"%(self.COMPANY_NAME))\n",
    "        print(\"Showdata from Class C\")\n",
    "c1 = C()\n",
    "c1.showdata()"
   ]
  },
  {
   "cell_type": "code",
   "execution_count": 34,
   "metadata": {},
   "outputs": [
    {
     "name": "stdout",
     "output_type": "stream",
     "text": [
      "555 555 555 555 555 555 555 555 555 555 555 555 555 555 555 555 555 555 555 555 555 555 555 555 555 555 555 555 555 555 555 555 555 555 555 555 555 555 555 555 555 555 555 555 555 555 555 555 555 555 "
     ]
    }
   ],
   "source": [
    "for i in range (0,50):\n",
    "    i = 555\n",
    "    list = i\n",
    "    print(list, end=\" \")"
   ]
  },
  {
   "cell_type": "code",
   "execution_count": 43,
   "metadata": {},
   "outputs": [
    {
     "name": "stdout",
     "output_type": "stream",
     "text": [
      "Enter the number20\n",
      "EVEN NUMBER\n"
     ]
    }
   ],
   "source": [
    "num = int(input(\"Enter the number\"))\n",
    "\n",
    "if num%2 == 0:\n",
    "    print(\"EVEN NUMBER\")\n",
    "else:\n",
    "    print(\"ODD NUMBER\")"
   ]
  },
  {
   "cell_type": "code",
   "execution_count": 2,
   "metadata": {},
   "outputs": [
    {
     "name": "stdout",
     "output_type": "stream",
     "text": [
      "Enter UsernameGautam Kumar\n",
      "Enter PasswordJaiswal@123\n"
     ]
    }
   ],
   "source": [
    "input_details = input(\"Enter Username\")\n",
    "input_detail1 = input(\"Enter Password\")"
   ]
  },
  {
   "cell_type": "code",
   "execution_count": null,
   "metadata": {},
   "outputs": [],
   "source": []
  },
  {
   "cell_type": "code",
   "execution_count": null,
   "metadata": {},
   "outputs": [],
   "source": []
  }
 ],
 "metadata": {
  "kernelspec": {
   "display_name": "Python 3",
   "language": "python",
   "name": "python3"
  },
  "language_info": {
   "codemirror_mode": {
    "name": "ipython",
    "version": 3
   },
   "file_extension": ".py",
   "mimetype": "text/x-python",
   "name": "python",
   "nbconvert_exporter": "python",
   "pygments_lexer": "ipython3",
   "version": "3.7.4"
  }
 },
 "nbformat": 4,
 "nbformat_minor": 2
}
